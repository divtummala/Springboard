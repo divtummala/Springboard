{
 "cells": [
  {
   "cell_type": "markdown",
   "metadata": {},
   "source": [
    "This exercise will require you to pull some data from the Qunadl API. Qaundl is currently the most widely used aggregator of financial market data."
   ]
  },
  {
   "cell_type": "markdown",
   "metadata": {},
   "source": [
    "As a first step, you will need to register a free account on the http://www.quandl.com website."
   ]
  },
  {
   "cell_type": "markdown",
   "metadata": {},
   "source": [
    "After you register, you will be provided with a unique API key, that you should store:"
   ]
  },
  {
   "cell_type": "code",
   "execution_count": 1,
   "metadata": {},
   "outputs": [],
   "source": [
    "# Store the API key as a string - according to PEP8, constants are always named in all upper case\n",
    "API_KEY = ''"
   ]
  },
  {
   "cell_type": "markdown",
   "metadata": {},
   "source": [
    "Qaundl has a large number of data sources, but, unfortunately, most of them require a Premium subscription. Still, there are also a good number of free datasets."
   ]
  },
  {
   "cell_type": "markdown",
   "metadata": {},
   "source": [
    "For this mini project, we will focus on equities data from the Frankfurt Stock Exhange (FSE), which is available for free. We'll try and analyze the stock prices of a company called Carl Zeiss Meditec, which manufactures tools for eye examinations, as well as medical lasers for laser eye surgery: https://www.zeiss.com/meditec/int/home.html. The company is listed under the stock ticker AFX_X."
   ]
  },
  {
   "cell_type": "markdown",
   "metadata": {},
   "source": [
    "You can find the detailed Quandl API instructions here: https://docs.quandl.com/docs/time-series"
   ]
  },
  {
   "cell_type": "markdown",
   "metadata": {},
   "source": [
    "While there is a dedicated Python package for connecting to the Quandl API, we would prefer that you use the *requests* package, which can be easily downloaded using *pip* or *conda*. You can find the documentation for the package here: http://docs.python-requests.org/en/master/ "
   ]
  },
  {
   "cell_type": "markdown",
   "metadata": {},
   "source": [
    "Finally, apart from the *requests* package, you are encouraged to not use any third party Python packages, such as *pandas*, and instead focus on what's available in the Python Standard Library (the *collections* module might come in handy: https://pymotw.com/3/collections/ ).\n",
    "Also, since you won't have access to DataFrames, you are encouraged to us Python's native data structures - preferably dictionaries, though some questions can also be answered using lists.\n",
    "You can read more on these data structures here: https://docs.python.org/3/tutorial/datastructures.html"
   ]
  },
  {
   "cell_type": "markdown",
   "metadata": {},
   "source": [
    "Keep in mind that the JSON responses you will be getting from the API map almost one-to-one to Python's dictionaries. Unfortunately, they can be very nested, so make sure you read up on indexing dictionaries in the documentation provided above."
   ]
  },
  {
   "cell_type": "code",
   "execution_count": 2,
   "metadata": {},
   "outputs": [],
   "source": [
    "# First, import the relevant modules\n",
    "import requests"
   ]
  },
  {
   "cell_type": "code",
   "execution_count": 3,
   "metadata": {},
   "outputs": [],
   "source": [
    "# Now, call the Quandl API and pull out a small sample of the data (only one day) to get a glimpse\n",
    "# into the JSON structure that will be returned\n",
    "\n",
    "# Quandl API format: https://www.quandl.com/api/v3/datasets/{database_code}/{dataset_code}/data.{return_format}\n",
    "url = \"https://www.quandl.com/api/v3/datasets/\"\n",
    "database_code = \"FSE\"\n",
    "dataset_code = \"AFX_X\"\n",
    "start = '2017-01-02'\n",
    "end = '2017-03-01'\n",
    "#return_format = \"json?api_key=\" + API_KEY + \"&start_date=\" + start + \"&end_date=\" + end + '&collapse=monthly'\n",
    "return_format = \"json?api_key=\" + API_KEY + \"&start_date=\" + start + \"&end_date=\" + end\n",
    "url_query = url + database_code + '/' + dataset_code + '/data.' + return_format\n",
    "r = requests.get(url_query)\n",
    "json_data = r.json()"
   ]
  },
  {
   "cell_type": "code",
   "execution_count": 4,
   "metadata": {},
   "outputs": [],
   "source": [
    "#print(json_data)"
   ]
  },
  {
   "cell_type": "code",
   "execution_count": 5,
   "metadata": {},
   "outputs": [],
   "source": [
    "#print(json_data.values())\n",
    "#data_dict = json_data.values()\n",
    "data_dict = {}\n",
    "for value in json_data.values():\n",
    "    data_dict = value\n"
   ]
  },
  {
   "cell_type": "code",
   "execution_count": 6,
   "metadata": {},
   "outputs": [
    {
     "name": "stdout",
     "output_type": "stream",
     "text": [
      "['Date', 'Open', 'High', 'Low', 'Close', 'Change', 'Traded Volume', 'Turnover', 'Last Price of the Day', 'Daily Traded Units', 'Daily Turnover']\n",
      "4\n"
     ]
    }
   ],
   "source": [
    "print(data_dict['column_names'])\n",
    "data_index = data_dict['column_names']\n",
    "print(data_index.index('Close'))"
   ]
  },
  {
   "cell_type": "code",
   "execution_count": 7,
   "metadata": {},
   "outputs": [
    {
     "name": "stdout",
     "output_type": "stream",
     "text": [
      "[['2017-01-03', 35.9, 35.93, 35.34, 35.48, None, 70618.0, 2515473.0, None, None, None], ['2017-01-02', 34.99, 35.94, 34.99, 35.8, None, 44700.0, 1590561.0, None, None, None]]\n"
     ]
    }
   ],
   "source": [
    "print(data_dict['data'][-2:])"
   ]
  },
  {
   "cell_type": "code",
   "execution_count": 8,
   "metadata": {},
   "outputs": [
    {
     "name": "stdout",
     "output_type": "stream",
     "text": [
      "[['2017-03-01', 41.19, 41.57, 40.9, 41.2, None, 86753.0, 3569796.0, None, None, None], ['2017-02-28', 40.38, 40.95, 40.38, 40.84, None, 67440.0, 2747011.0, None, None, None]]\n"
     ]
    }
   ],
   "source": [
    "print(data_dict['data'][:2])"
   ]
  },
  {
   "cell_type": "code",
   "execution_count": 9,
   "metadata": {
    "collapsed": true
   },
   "outputs": [
    {
     "name": "stdout",
     "output_type": "stream",
     "text": [
      "[['2017-03-01', 41.19, 41.57, 40.9, 41.2, None, 86753.0, 3569796.0, None, None, None], ['2017-02-28', 40.38, 40.95, 40.38, 40.84, None, 67440.0, 2747011.0, None, None, None], ['2017-02-27', 39.75, 40.64, 39.75, 40.39, None, 62655.0, 2520260.0, None, None, None], ['2017-02-24', 39.77, 40.14, 38.91, 39.74, None, 101294.0, 4015150.0, None, None, None], ['2017-02-23', 39.72, 39.98, 39.38, 39.79, None, 81945.0, 3260642.0, None, None, None], ['2017-02-22', 39.6, 39.75, 39.27, 39.7, None, 77619.0, 3066894.0, None, None, None], ['2017-02-21', 38.85, 39.57, 38.85, 39.45, None, 46070.0, 1808350.0, None, None, None], ['2017-02-20', 39.25, 39.25, 38.81, 38.98, None, 37014.0, 1444138.0, None, None, None], ['2017-02-17', 38.8, 39.03, 38.48, 39.02, None, 60583.0, 2352961.0, None, None, None], ['2017-02-16', 38.8, 39.2, 38.25, 38.71, None, 84682.0, 3282322.0, None, None, None], ['2017-02-15', 38.5, 38.93, 38.4, 38.72, None, 77420.0, 2996861.0, None, None, None], ['2017-02-14', 38.81, 38.86, 38.0, 38.37, None, 82601.0, 3163898.0, None, None, None], ['2017-02-13', 37.37, 39.36, 37.35, 38.53, None, 177171.0, 6804028.0, None, None, None], ['2017-02-10', 36.65, 37.5, 36.57, 37.06, None, 115843.0, 4291017.0, None, None, None], ['2017-02-09', 36.2, 36.25, 35.77, 36.25, None, 67781.0, 2445428.0, None, None, None], ['2017-02-08', 35.98, 36.14, 35.84, 36.05, None, 39731.0, 1431205.0, None, None, None], ['2017-02-07', 35.56, 36.05, 35.36, 35.89, None, 67410.0, 2410818.0, None, None, None], ['2017-02-06', 36.06, 36.15, 35.6, 35.64, None, 41911.0, 1496794.0, None, None, None], ['2017-02-03', 36.02, 36.2, 35.73, 36.1, None, 40705.0, 1464712.0, None, None, None], ['2017-02-02', 35.95, 36.2, 35.7, 36.07, None, 54279.0, 1953176.0, None, None, None], ['2017-02-01', 34.75, 36.0, 34.75, 35.94, None, 85137.0, 3038172.0, None, None, None], ['2017-01-31', 35.24, 35.24, 34.56, 34.56, None, 63371.0, 2199583.0, None, None, None], ['2017-01-30', 35.38, 35.59, 34.95, 35.15, None, 69603.0, 2457762.0, None, None, None], ['2017-01-27', 34.83, 35.43, 34.81, 35.3, None, 69657.0, 2444913.0, None, None, None], ['2017-01-26', 35.07, 35.58, 34.8, 34.89, None, 64103.0, 2249375.0, None, None, None], ['2017-01-25', 34.42, 34.86, 34.03, 34.83, None, 56240.0, 1947147.0, None, None, None], ['2017-01-24', 34.0, 34.35, 33.85, 34.22, None, 48797.0, 1666086.0, None, None, None], ['2017-01-23', 34.04, 34.12, 33.62, 34.06, None, 55333.0, 1877957.0, None, None, None], ['2017-01-20', 34.54, 34.59, 34.05, 34.17, None, 80246.0, 2743474.0, None, None, None], ['2017-01-19', 35.04, 35.04, 34.42, 34.5, None, 73105.0, 2526731.0, None, None, None], ['2017-01-18', 35.04, 35.51, 34.8, 34.9, None, 65931.0, 2311608.0, None, None, None], ['2017-01-17', 35.06, 35.19, 34.79, 34.99, None, 39195.0, 1369857.0, None, None, None], ['2017-01-16', 34.85, 35.24, 34.56, 35.07, None, 47879.0, 1678679.0, None, None, None], ['2017-01-13', 34.98, 34.98, 34.6, 34.85, None, 59367.0, 2065534.0, None, None, None], ['2017-01-12', 35.38, 35.38, 34.31, 34.9, None, 163860.0, 5703427.0, None, None, None], ['2017-01-11', 34.95, 36.0, 34.84, 35.42, None, 123530.0, 4369079.0, None, None, None], ['2017-01-10', 34.8, 34.98, 34.46, 34.91, None, 43976.0, 1528055.0, None, None, None], ['2017-01-09', 35.29, 35.35, 34.43, 34.67, None, 62225.0, 2157182.0, None, None, None], ['2017-01-06', 34.91, 35.21, 34.91, 35.04, None, 27507.0, 964046.0, None, None, None], ['2017-01-05', 35.02, 35.2, 34.73, 35.06, None, 48412.0, 1692326.0, None, None, None], ['2017-01-04', 35.48, 35.51, 34.75, 35.19, None, 54408.0, 1906810.0, None, None, None], ['2017-01-03', 35.9, 35.93, 35.34, 35.48, None, 70618.0, 2515473.0, None, None, None], ['2017-01-02', 34.99, 35.94, 34.99, 35.8, None, 44700.0, 1590561.0, None, None, None]]\n"
     ]
    }
   ],
   "source": [
    "data_list = []\n",
    "for item in data_dict['data']:\n",
    "    data_list.append(item) \n",
    "print(data_list)"
   ]
  },
  {
   "cell_type": "code",
   "execution_count": 10,
   "metadata": {},
   "outputs": [],
   "source": [
    "# Inspect the JSON structure of the object you created, and take note of how nested it is,\n",
    "# as well as the overall structure\n"
   ]
  },
  {
   "cell_type": "markdown",
   "metadata": {},
   "source": [
    "These are your tasks for this mini project:\n",
    "\n",
    "1. Collect data from the Franfurt Stock Exchange, for the ticker AFX_X, for the whole year 2017 (keep in mind that the date format is YYYY-MM-DD).\n",
    "2. Convert the returned JSON object into a Python dictionary.\n",
    "3. Calculate what the highest and lowest opening prices were for the stock in this period.\n",
    "4. What was the largest change in any one day (based on High and Low price)?\n",
    "5. What was the largest change between any two days (based on Closing Price)?\n",
    "6. What was the average daily trading volume during this year?\n",
    "7. (Optional) What was the median trading volume during this year. (Note: you may need to implement your own function for calculating the median.)"
   ]
  },
  {
   "cell_type": "code",
   "execution_count": 11,
   "metadata": {},
   "outputs": [
    {
     "name": "stdout",
     "output_type": "stream",
     "text": [
      "2\n"
     ]
    }
   ],
   "source": [
    "print(data_index.index('High'))"
   ]
  },
  {
   "cell_type": "code",
   "execution_count": 12,
   "metadata": {},
   "outputs": [],
   "source": [
    "#Highest and lowest opening prices in this period"
   ]
  },
  {
   "cell_type": "code",
   "execution_count": 13,
   "metadata": {},
   "outputs": [
    {
     "name": "stdout",
     "output_type": "stream",
     "text": [
      "41.57\n",
      "33.62\n",
      "['2017-03-01', '2017-02-28', '2017-02-27', '2017-02-24', '2017-02-23', '2017-02-22', '2017-02-21', '2017-02-20', '2017-02-17', '2017-02-16', '2017-02-15', '2017-02-14', '2017-02-13', '2017-02-10', '2017-02-09', '2017-02-08', '2017-02-07', '2017-02-06', '2017-02-03', '2017-02-02', '2017-02-01', '2017-01-31', '2017-01-30', '2017-01-27', '2017-01-26', '2017-01-25', '2017-01-24', '2017-01-23', '2017-01-20', '2017-01-19', '2017-01-18', '2017-01-17', '2017-01-16', '2017-01-13', '2017-01-12', '2017-01-11', '2017-01-10', '2017-01-09', '2017-01-06', '2017-01-05', '2017-01-04', '2017-01-03', '2017-01-02']\n"
     ]
    }
   ],
   "source": [
    "high_list = []\n",
    "low_list = []\n",
    "date_list = []\n",
    "close_list = []\n",
    "traded_list = []\n",
    "highest_price = 'NaN'\n",
    "lowest_price = 'NaN'\n",
    "for item in data_list:\n",
    "    high_list.append(item[data_index.index('High')])\n",
    "    low_list.append(item[data_index.index('Low')])\n",
    "    date_list.append(item[data_index.index('Date')])\n",
    "    close_list.append(item[data_index.index('Close')])\n",
    "    traded_list.append(item[data_index.index('Traded Volume')])\n",
    "highest_price = max(high_list)\n",
    "lowest_price = min(low_list)\n",
    "print(highest_price)\n",
    "print(lowest_price)\n",
    "print(date_list)"
   ]
  },
  {
   "cell_type": "code",
   "execution_count": 14,
   "metadata": {},
   "outputs": [],
   "source": [
    "#Largest 1 day change (High price of the day - Low price of the day)"
   ]
  },
  {
   "cell_type": "code",
   "execution_count": 15,
   "metadata": {},
   "outputs": [
    {
     "name": "stdout",
     "output_type": "stream",
     "text": [
      "2.009999999999998\n",
      "2017-02-13\n"
     ]
    }
   ],
   "source": [
    "max_1day_change_list = []\n",
    "index = 0\n",
    "while index < len(high_list):\n",
    "    max_1day_change_list.append(high_list[index] - low_list[index])\n",
    "    index += 1\n",
    "max_1day_change = max(max_1day_change_list)\n",
    "max_1day_date_index = max_1day_change_list.index(max_1day_change)\n",
    "max_1day_date = date_list[max_1day_date_index]\n",
    "\n",
    "print(max_1day_change)\n",
    "print(max_1day_date)"
   ]
  },
  {
   "cell_type": "code",
   "execution_count": 16,
   "metadata": {},
   "outputs": [],
   "source": [
    "#Closing price delta (higest closing price in period - lowest closing price in period)"
   ]
  },
  {
   "cell_type": "code",
   "execution_count": 17,
   "metadata": {},
   "outputs": [
    {
     "name": "stdout",
     "output_type": "stream",
     "text": [
      "7.140000000000001\n"
     ]
    }
   ],
   "source": [
    "max_closing_delta = max(close_list) - min(close_list)\n",
    "print(max_closing_delta)"
   ]
  },
  {
   "cell_type": "code",
   "execution_count": 18,
   "metadata": {},
   "outputs": [],
   "source": [
    "#Average daily trading volume"
   ]
  },
  {
   "cell_type": "code",
   "execution_count": 19,
   "metadata": {},
   "outputs": [
    {
     "name": "stdout",
     "output_type": "stream",
     "text": [
      "69490.86046511628\n"
     ]
    }
   ],
   "source": [
    "average_daily_trading_volume = sum(traded_list) / len(traded_list)\n",
    "print(average_daily_trading_volume)"
   ]
  }
 ],
 "metadata": {
  "kernelspec": {
   "display_name": "Python 3",
   "language": "python",
   "name": "python3"
  },
  "language_info": {
   "codemirror_mode": {
    "name": "ipython",
    "version": 3
   },
   "file_extension": ".py",
   "mimetype": "text/x-python",
   "name": "python",
   "nbconvert_exporter": "python",
   "pygments_lexer": "ipython3",
   "version": "3.8.5"
  }
 },
 "nbformat": 4,
 "nbformat_minor": 2
}
