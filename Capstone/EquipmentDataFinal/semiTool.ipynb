{
 "cells": [
  {
   "cell_type": "markdown",
   "metadata": {},
   "source": [
    "**Data Source:** Pleschberger, Martin, Zernig, Anja, & Kaestner, Andre. (2020). Equipment Sensor Data from Semiconductor Frontend Production (Version 1) [Data set]. Zenodo. http://doi.org/10.5281/zenodo.4282611"
   ]
  },
  {
   "cell_type": "code",
   "execution_count": 1,
   "metadata": {},
   "outputs": [],
   "source": [
    "import os\n",
    "import pandas as pd\n",
    "pd.options.display.max_columns = 100\n",
    "\n",
    "from sklearn.decomposition import PCA\n",
    "from sklearn.model_selection import train_test_split, cross_val_score\n",
    "from sklearn.linear_model import LinearRegression, LogisticRegression, Lasso\n",
    "from sklearn.ensemble import RandomForestClassifier\n",
    "from sklearn.preprocessing import MinMaxScaler, StandardScaler, normalize\n",
    "from sklearn.metrics import confusion_matrix, classification_report\n",
    "\n",
    "import numpy as np\n",
    "import matplotlib.pyplot as plt\n",
    "import seaborn as sns\n",
    "#sns.choose_colorbrewer_palette\n",
    "#plt.style.use('seaborn')\n",
    "\n",
    "%matplotlib inline"
   ]
  },
  {
   "cell_type": "code",
   "execution_count": 2,
   "metadata": {},
   "outputs": [],
   "source": [
    "sensors_1_to_24 = pd.read_csv('equipment1.csv', sep=';')\n",
    "sensors_25_to_56 = pd.read_csv('equipment2.csv', sep=';')\n",
    "response = pd.read_csv('response.csv', sep=';')"
   ]
  },
  {
   "cell_type": "code",
   "execution_count": 3,
   "metadata": {},
   "outputs": [],
   "source": [
    "sensors_1_to_24.lot = sensors_1_to_24.lot.str.replace('lot', '').astype('int64')\n",
    "sensors_1_to_24.timestamp = sensors_1_to_24.timestamp.str.replace('timestamp_', '').astype('int64')\n",
    "\n",
    "sensors_25_to_56.lot = sensors_25_to_56.lot.str.replace('lot', '').astype('int64')\n",
    "sensors_25_to_56.timestamp = sensors_25_to_56.timestamp.str.replace('timestamp_', '').astype('int64')"
   ]
  },
  {
   "cell_type": "code",
   "execution_count": 4,
   "metadata": {},
   "outputs": [],
   "source": [
    "grouped_data_1_to_24 = sensors_1_to_24.groupby(['lot', 'wafer']).mean().sort_values('lot')\n",
    "grouped_data_25_to_56 = sensors_25_to_56.groupby(['lot', 'wafer']).mean().sort_values('lot')"
   ]
  },
  {
   "cell_type": "code",
   "execution_count": 5,
   "metadata": {},
   "outputs": [],
   "source": [
    "response['lot'] = response['lot'].str.replace('lot', '').astype('int64')\n",
    "response['class'] = response['class'].replace(['good', 'bad'], [1, 0]).astype('int64')\n",
    "grouped_response = response.groupby(['lot', 'wafer']).mean().sort_values('lot')"
   ]
  },
  {
   "cell_type": "code",
   "execution_count": 6,
   "metadata": {},
   "outputs": [
    {
     "name": "stdout",
     "output_type": "stream",
     "text": [
      "0\n",
      "348\n",
      "1319\n"
     ]
    }
   ],
   "source": [
    "print(len(grouped_response.index) - len(grouped_data_25_to_56.index))\n",
    "print(len(grouped_response.index) - len(grouped_data_1_to_24.index))\n",
    "print(len(grouped_response.index))"
   ]
  },
  {
   "cell_type": "code",
   "execution_count": 7,
   "metadata": {},
   "outputs": [],
   "source": [
    "sensor_data = grouped_data_1_to_24.join(grouped_data_25_to_56, how='outer', lsuffix='_1_to_24', rsuffix='_25_to_56')\n",
    "data = sensor_data.join(grouped_response, how='outer')"
   ]
  },
  {
   "cell_type": "code",
   "execution_count": 8,
   "metadata": {},
   "outputs": [
    {
     "name": "stdout",
     "output_type": "stream",
     "text": [
      "1319\n"
     ]
    }
   ],
   "source": [
    "data = data.fillna(0)\n",
    "print(len(grouped_response.index))"
   ]
  },
  {
   "cell_type": "code",
   "execution_count": 9,
   "metadata": {},
   "outputs": [],
   "source": [
    "data.sample(3);"
   ]
  },
  {
   "cell_type": "code",
   "execution_count": 10,
   "metadata": {},
   "outputs": [
    {
     "name": "stdout",
     "output_type": "stream",
     "text": [
      "<class 'pandas.core.frame.DataFrame'>\n",
      "MultiIndex: 1319 entries, (2, 1) to (103, 25)\n",
      "Data columns (total 60 columns):\n",
      " #   Column              Non-Null Count  Dtype  \n",
      "---  ------              --------------  -----  \n",
      " 0   timestamp_1_to_24   1319 non-null   float64\n",
      " 1   sensor_1            1319 non-null   float64\n",
      " 2   sensor_2            1319 non-null   float64\n",
      " 3   sensor_3            1319 non-null   float64\n",
      " 4   sensor_4            1319 non-null   float64\n",
      " 5   sensor_5            1319 non-null   float64\n",
      " 6   sensor_6            1319 non-null   float64\n",
      " 7   sensor_7            1319 non-null   float64\n",
      " 8   sensor_8            1319 non-null   float64\n",
      " 9   sensor_9            1319 non-null   float64\n",
      " 10  sensor_10           1319 non-null   float64\n",
      " 11  sensor_11           1319 non-null   float64\n",
      " 12  sensor_12           1319 non-null   float64\n",
      " 13  sensor_13           1319 non-null   float64\n",
      " 14  sensor_14           1319 non-null   float64\n",
      " 15  sensor_15           1319 non-null   float64\n",
      " 16  sensor_16           1319 non-null   float64\n",
      " 17  sensor_17           1319 non-null   float64\n",
      " 18  sensor_18           1319 non-null   float64\n",
      " 19  sensor_19           1319 non-null   float64\n",
      " 20  sensor_20           1319 non-null   float64\n",
      " 21  sensor_21           1319 non-null   float64\n",
      " 22  sensor_22           1319 non-null   float64\n",
      " 23  sensor_23           1319 non-null   float64\n",
      " 24  sensor_24           1319 non-null   float64\n",
      " 25  timestamp_25_to_56  1319 non-null   float64\n",
      " 26  sensor_25           1319 non-null   float64\n",
      " 27  sensor_26           1319 non-null   float64\n",
      " 28  sensor_27           1319 non-null   float64\n",
      " 29  sensor_28           1319 non-null   float64\n",
      " 30  sensor_29           1319 non-null   float64\n",
      " 31  sensor_30           1319 non-null   float64\n",
      " 32  sensor_31           1319 non-null   float64\n",
      " 33  sensor_32           1319 non-null   float64\n",
      " 34  sensor_33           1319 non-null   float64\n",
      " 35  sensor_34           1319 non-null   float64\n",
      " 36  sensor_35           1319 non-null   float64\n",
      " 37  sensor_36           1319 non-null   float64\n",
      " 38  sensor_37           1319 non-null   float64\n",
      " 39  sensor_38           1319 non-null   float64\n",
      " 40  sensor_39           1319 non-null   float64\n",
      " 41  sensor_40           1319 non-null   float64\n",
      " 42  sensor_41           1319 non-null   float64\n",
      " 43  sensor_42           1319 non-null   float64\n",
      " 44  sensor_43           1319 non-null   float64\n",
      " 45  sensor_44           1319 non-null   float64\n",
      " 46  sensor_45           1319 non-null   float64\n",
      " 47  sensor_46           1319 non-null   float64\n",
      " 48  sensor_47           1319 non-null   float64\n",
      " 49  sensor_48           1319 non-null   float64\n",
      " 50  sensor_49           1319 non-null   float64\n",
      " 51  sensor_50           1319 non-null   float64\n",
      " 52  sensor_51           1319 non-null   float64\n",
      " 53  sensor_52           1319 non-null   float64\n",
      " 54  sensor_53           1319 non-null   float64\n",
      " 55  sensor_54           1319 non-null   float64\n",
      " 56  sensor_55           1319 non-null   float64\n",
      " 57  sensor_56           1319 non-null   float64\n",
      " 58  response            1319 non-null   float64\n",
      " 59  class               1319 non-null   int64  \n",
      "dtypes: float64(59), int64(1)\n",
      "memory usage: 624.7 KB\n"
     ]
    }
   ],
   "source": [
    "data.info();"
   ]
  },
  {
   "cell_type": "code",
   "execution_count": 11,
   "metadata": {},
   "outputs": [],
   "source": [
    "data.describe();"
   ]
  },
  {
   "cell_type": "code",
   "execution_count": 12,
   "metadata": {},
   "outputs": [
    {
     "name": "stdout",
     "output_type": "stream",
     "text": [
      "99.92418498862774\n",
      "20.015163002274452\n"
     ]
    }
   ],
   "source": [
    "data[['sensor_33']].value_counts()\n",
    "zeros = (data['sensor_33'] == 0.0).sum()\n",
    "total = data['sensor_33'].shape[0]\n",
    "print(zeros * 100 / total)\n",
    "\n",
    "bad_class_sum = (data['class']==0).sum()\n",
    "good_class_sum = (data['class']==1).sum()\n",
    "print(bad_class_sum * 100 / (bad_class_sum + good_class_sum))"
   ]
  },
  {
   "cell_type": "markdown",
   "metadata": {},
   "source": [
    "Dropping sensor columns if more than 95% of the sensor values are 0.0"
   ]
  },
  {
   "cell_type": "code",
   "execution_count": 13,
   "metadata": {},
   "outputs": [],
   "source": [
    "columns_before = data.columns;"
   ]
  },
  {
   "cell_type": "code",
   "execution_count": 14,
   "metadata": {},
   "outputs": [],
   "source": [
    "data.head();"
   ]
  },
  {
   "cell_type": "code",
   "execution_count": 15,
   "metadata": {},
   "outputs": [],
   "source": [
    "for n in data.columns:\n",
    "    if ((data[n]==0).sum() * 100 / data[n].shape[0]) >= 95:\n",
    "        data = data.drop(n, axis=1)"
   ]
  },
  {
   "cell_type": "code",
   "execution_count": 16,
   "metadata": {},
   "outputs": [
    {
     "name": "stdout",
     "output_type": "stream",
     "text": [
      "Columns that were dropped for having < 95% of non zero values {'sensor_36', 'sensor_33', 'sensor_6'}\n"
     ]
    }
   ],
   "source": [
    "columns_after = data.columns;\n",
    "print('Columns that were dropped for having < 95% of non zero values', set(columns_before) - set(columns_after))"
   ]
  },
  {
   "cell_type": "code",
   "execution_count": 17,
   "metadata": {},
   "outputs": [],
   "source": [
    "#ECDF plots\n",
    "def ECDF(df_column):\n",
    "    '''returns sorted data as x and proportionate 0.0 to 1.0 y values'''\n",
    "    x = np.sort(df_column)\n",
    "    y = np.arange(1, len(x)+1) / len(x)\n",
    "    return x, y\n",
    "\n",
    "#plt.style.use('seaborn')\n",
    "#plt.set_cmap('gray')\n",
    "\n",
    "#plt.figure(figsize=(50.0,50.0))\n",
    "#for ax, n in list(enumerate(data.columns)):\n",
    "#    x, y = ECDF(data[n])\n",
    "#    plt.subplot(10, 10, ax+1)\n",
    "#    plt.grid(True)\n",
    "#    x_ecdf = plt.plot(x, y, marker='.', linestyle='none')\n",
    "#    plt.xlabel('%s readings' %n)\n",
    "#    plt.yticks(np.arange(0, 1.1, 0.1))\n",
    "#    plt.ylabel('ECDF')\n",
    "#    plt.margins(0.02)"
   ]
  },
  {
   "cell_type": "code",
   "execution_count": 18,
   "metadata": {},
   "outputs": [
    {
     "name": "stdout",
     "output_type": "stream",
     "text": [
      "94.99620924943139\n"
     ]
    }
   ],
   "source": [
    "data[['sensor_12']].value_counts();\n",
    "zeros = (data['sensor_12'] == 0.0).sum()\n",
    "total = data['sensor_12'].shape[0]\n",
    "print(zeros * 100 / total)"
   ]
  },
  {
   "cell_type": "markdown",
   "metadata": {},
   "source": [
    "Well sensor 12 barely made the cut of having less than 95% of non zero values. Keeping sensor 12 column for now"
   ]
  },
  {
   "cell_type": "code",
   "execution_count": 19,
   "metadata": {},
   "outputs": [],
   "source": [
    "lot_wafer_dict = dict(enumerate(data.index))"
   ]
  },
  {
   "cell_type": "code",
   "execution_count": 20,
   "metadata": {},
   "outputs": [],
   "source": [
    "#data.set_index(list(lot_wafer_dict.keys()), inplace=True)\n",
    "data['new_index'] = list(lot_wafer_dict.keys())\n",
    "#data.set_index('new_index', inplace=True)"
   ]
  },
  {
   "cell_type": "code",
   "execution_count": 21,
   "metadata": {
    "scrolled": true
   },
   "outputs": [
    {
     "name": "stdout",
     "output_type": "stream",
     "text": [
      "(1319, 58)\n"
     ]
    },
    {
     "data": {
      "text/html": [
       "<div>\n",
       "<style scoped>\n",
       "    .dataframe tbody tr th:only-of-type {\n",
       "        vertical-align: middle;\n",
       "    }\n",
       "\n",
       "    .dataframe tbody tr th {\n",
       "        vertical-align: top;\n",
       "    }\n",
       "\n",
       "    .dataframe thead th {\n",
       "        text-align: right;\n",
       "    }\n",
       "</style>\n",
       "<table border=\"1\" class=\"dataframe\">\n",
       "  <thead>\n",
       "    <tr style=\"text-align: right;\">\n",
       "      <th></th>\n",
       "      <th></th>\n",
       "      <th>timestamp_1_to_24</th>\n",
       "      <th>sensor_1</th>\n",
       "      <th>sensor_2</th>\n",
       "      <th>sensor_3</th>\n",
       "      <th>sensor_4</th>\n",
       "      <th>sensor_5</th>\n",
       "      <th>sensor_7</th>\n",
       "      <th>sensor_8</th>\n",
       "      <th>sensor_9</th>\n",
       "      <th>sensor_10</th>\n",
       "      <th>sensor_11</th>\n",
       "      <th>sensor_12</th>\n",
       "      <th>sensor_13</th>\n",
       "      <th>sensor_14</th>\n",
       "      <th>sensor_15</th>\n",
       "      <th>sensor_16</th>\n",
       "      <th>sensor_17</th>\n",
       "      <th>sensor_18</th>\n",
       "      <th>sensor_19</th>\n",
       "      <th>sensor_20</th>\n",
       "      <th>sensor_21</th>\n",
       "      <th>sensor_22</th>\n",
       "      <th>sensor_23</th>\n",
       "      <th>sensor_24</th>\n",
       "      <th>timestamp_25_to_56</th>\n",
       "      <th>sensor_25</th>\n",
       "      <th>sensor_26</th>\n",
       "      <th>sensor_27</th>\n",
       "      <th>sensor_28</th>\n",
       "      <th>sensor_29</th>\n",
       "      <th>sensor_30</th>\n",
       "      <th>sensor_31</th>\n",
       "      <th>sensor_32</th>\n",
       "      <th>sensor_34</th>\n",
       "      <th>sensor_35</th>\n",
       "      <th>sensor_37</th>\n",
       "      <th>sensor_38</th>\n",
       "      <th>sensor_39</th>\n",
       "      <th>sensor_40</th>\n",
       "      <th>sensor_41</th>\n",
       "      <th>sensor_42</th>\n",
       "      <th>sensor_43</th>\n",
       "      <th>sensor_44</th>\n",
       "      <th>sensor_45</th>\n",
       "      <th>sensor_46</th>\n",
       "      <th>sensor_47</th>\n",
       "      <th>sensor_48</th>\n",
       "      <th>sensor_49</th>\n",
       "      <th>sensor_50</th>\n",
       "      <th>sensor_51</th>\n",
       "      <th>sensor_52</th>\n",
       "      <th>sensor_53</th>\n",
       "      <th>sensor_54</th>\n",
       "      <th>sensor_55</th>\n",
       "      <th>sensor_56</th>\n",
       "      <th>response</th>\n",
       "      <th>class</th>\n",
       "      <th>new_index</th>\n",
       "    </tr>\n",
       "    <tr>\n",
       "      <th>lot</th>\n",
       "      <th>wafer</th>\n",
       "      <th></th>\n",
       "      <th></th>\n",
       "      <th></th>\n",
       "      <th></th>\n",
       "      <th></th>\n",
       "      <th></th>\n",
       "      <th></th>\n",
       "      <th></th>\n",
       "      <th></th>\n",
       "      <th></th>\n",
       "      <th></th>\n",
       "      <th></th>\n",
       "      <th></th>\n",
       "      <th></th>\n",
       "      <th></th>\n",
       "      <th></th>\n",
       "      <th></th>\n",
       "      <th></th>\n",
       "      <th></th>\n",
       "      <th></th>\n",
       "      <th></th>\n",
       "      <th></th>\n",
       "      <th></th>\n",
       "      <th></th>\n",
       "      <th></th>\n",
       "      <th></th>\n",
       "      <th></th>\n",
       "      <th></th>\n",
       "      <th></th>\n",
       "      <th></th>\n",
       "      <th></th>\n",
       "      <th></th>\n",
       "      <th></th>\n",
       "      <th></th>\n",
       "      <th></th>\n",
       "      <th></th>\n",
       "      <th></th>\n",
       "      <th></th>\n",
       "      <th></th>\n",
       "      <th></th>\n",
       "      <th></th>\n",
       "      <th></th>\n",
       "      <th></th>\n",
       "      <th></th>\n",
       "      <th></th>\n",
       "      <th></th>\n",
       "      <th></th>\n",
       "      <th></th>\n",
       "      <th></th>\n",
       "      <th></th>\n",
       "      <th></th>\n",
       "      <th></th>\n",
       "      <th></th>\n",
       "      <th></th>\n",
       "      <th></th>\n",
       "      <th></th>\n",
       "      <th></th>\n",
       "      <th></th>\n",
       "    </tr>\n",
       "  </thead>\n",
       "  <tbody>\n",
       "    <tr>\n",
       "      <th rowspan=\"5\" valign=\"top\">2</th>\n",
       "      <th>1</th>\n",
       "      <td>87.5</td>\n",
       "      <td>5.231203</td>\n",
       "      <td>5.176705</td>\n",
       "      <td>13.251176</td>\n",
       "      <td>42.618787</td>\n",
       "      <td>43.066761</td>\n",
       "      <td>8.505448</td>\n",
       "      <td>0.0</td>\n",
       "      <td>7.267045</td>\n",
       "      <td>11.703011</td>\n",
       "      <td>12.346591</td>\n",
       "      <td>0.0</td>\n",
       "      <td>0.266298</td>\n",
       "      <td>0.266298</td>\n",
       "      <td>0.266298</td>\n",
       "      <td>0.266298</td>\n",
       "      <td>6.164773</td>\n",
       "      <td>398.018165</td>\n",
       "      <td>126.723761</td>\n",
       "      <td>9.778409</td>\n",
       "      <td>79.217614</td>\n",
       "      <td>208.905500</td>\n",
       "      <td>467.232955</td>\n",
       "      <td>0.983864</td>\n",
       "      <td>87.5</td>\n",
       "      <td>0.001495</td>\n",
       "      <td>232.694903</td>\n",
       "      <td>60.1875</td>\n",
       "      <td>6.6875</td>\n",
       "      <td>0.0</td>\n",
       "      <td>21.821591</td>\n",
       "      <td>11.296246</td>\n",
       "      <td>79.692877</td>\n",
       "      <td>0.001977</td>\n",
       "      <td>37.624962</td>\n",
       "      <td>21.595660</td>\n",
       "      <td>44.118530</td>\n",
       "      <td>42.609528</td>\n",
       "      <td>189.509110</td>\n",
       "      <td>1.660068</td>\n",
       "      <td>120.094154</td>\n",
       "      <td>122.751516</td>\n",
       "      <td>1.022727</td>\n",
       "      <td>690.483790</td>\n",
       "      <td>33.894318</td>\n",
       "      <td>1323.791176</td>\n",
       "      <td>16.962955</td>\n",
       "      <td>183.738636</td>\n",
       "      <td>33.119886</td>\n",
       "      <td>181.149432</td>\n",
       "      <td>121.631172</td>\n",
       "      <td>344.745734</td>\n",
       "      <td>0.000004</td>\n",
       "      <td>0.509069</td>\n",
       "      <td>0.607955</td>\n",
       "      <td>1.0278</td>\n",
       "      <td>0</td>\n",
       "      <td>0</td>\n",
       "    </tr>\n",
       "    <tr>\n",
       "      <th>2</th>\n",
       "      <td>87.5</td>\n",
       "      <td>5.196315</td>\n",
       "      <td>5.142614</td>\n",
       "      <td>13.666808</td>\n",
       "      <td>43.419169</td>\n",
       "      <td>43.147443</td>\n",
       "      <td>9.167583</td>\n",
       "      <td>0.0</td>\n",
       "      <td>7.607955</td>\n",
       "      <td>11.960227</td>\n",
       "      <td>12.761364</td>\n",
       "      <td>0.0</td>\n",
       "      <td>0.266162</td>\n",
       "      <td>0.266162</td>\n",
       "      <td>0.266162</td>\n",
       "      <td>0.266162</td>\n",
       "      <td>6.363636</td>\n",
       "      <td>408.363824</td>\n",
       "      <td>201.201568</td>\n",
       "      <td>10.329545</td>\n",
       "      <td>88.847159</td>\n",
       "      <td>208.953966</td>\n",
       "      <td>467.204545</td>\n",
       "      <td>1.017557</td>\n",
       "      <td>87.5</td>\n",
       "      <td>0.001500</td>\n",
       "      <td>245.951321</td>\n",
       "      <td>63.5625</td>\n",
       "      <td>7.0625</td>\n",
       "      <td>0.0</td>\n",
       "      <td>22.105284</td>\n",
       "      <td>10.849002</td>\n",
       "      <td>80.814970</td>\n",
       "      <td>0.001973</td>\n",
       "      <td>39.854000</td>\n",
       "      <td>22.763340</td>\n",
       "      <td>45.344954</td>\n",
       "      <td>43.932713</td>\n",
       "      <td>196.958829</td>\n",
       "      <td>2.555232</td>\n",
       "      <td>126.819666</td>\n",
       "      <td>129.624593</td>\n",
       "      <td>1.096591</td>\n",
       "      <td>729.909761</td>\n",
       "      <td>33.471932</td>\n",
       "      <td>1398.728761</td>\n",
       "      <td>16.871875</td>\n",
       "      <td>184.289773</td>\n",
       "      <td>33.414205</td>\n",
       "      <td>184.728977</td>\n",
       "      <td>128.418243</td>\n",
       "      <td>0.000006</td>\n",
       "      <td>396.140498</td>\n",
       "      <td>0.592390</td>\n",
       "      <td>0.642045</td>\n",
       "      <td>0.3906</td>\n",
       "      <td>1</td>\n",
       "      <td>1</td>\n",
       "    </tr>\n",
       "    <tr>\n",
       "      <th>3</th>\n",
       "      <td>87.5</td>\n",
       "      <td>5.161432</td>\n",
       "      <td>5.255114</td>\n",
       "      <td>13.243853</td>\n",
       "      <td>42.981363</td>\n",
       "      <td>42.650795</td>\n",
       "      <td>8.666924</td>\n",
       "      <td>0.0</td>\n",
       "      <td>7.295455</td>\n",
       "      <td>11.563523</td>\n",
       "      <td>12.551136</td>\n",
       "      <td>0.0</td>\n",
       "      <td>0.266903</td>\n",
       "      <td>0.266903</td>\n",
       "      <td>0.266903</td>\n",
       "      <td>0.266903</td>\n",
       "      <td>6.164773</td>\n",
       "      <td>398.137699</td>\n",
       "      <td>113.195898</td>\n",
       "      <td>9.727273</td>\n",
       "      <td>79.772727</td>\n",
       "      <td>212.313545</td>\n",
       "      <td>477.465909</td>\n",
       "      <td>0.987557</td>\n",
       "      <td>87.5</td>\n",
       "      <td>0.001505</td>\n",
       "      <td>243.975941</td>\n",
       "      <td>63.0000</td>\n",
       "      <td>7.0000</td>\n",
       "      <td>0.0</td>\n",
       "      <td>21.821420</td>\n",
       "      <td>11.063067</td>\n",
       "      <td>80.783452</td>\n",
       "      <td>0.001954</td>\n",
       "      <td>39.408217</td>\n",
       "      <td>22.018238</td>\n",
       "      <td>44.152238</td>\n",
       "      <td>43.927304</td>\n",
       "      <td>196.613328</td>\n",
       "      <td>1.506227</td>\n",
       "      <td>125.711287</td>\n",
       "      <td>128.485525</td>\n",
       "      <td>1.085227</td>\n",
       "      <td>724.134585</td>\n",
       "      <td>33.594432</td>\n",
       "      <td>1387.033733</td>\n",
       "      <td>16.950114</td>\n",
       "      <td>184.193182</td>\n",
       "      <td>33.901705</td>\n",
       "      <td>185.005682</td>\n",
       "      <td>127.305186</td>\n",
       "      <td>395.800252</td>\n",
       "      <td>0.000006</td>\n",
       "      <td>0.526011</td>\n",
       "      <td>0.636648</td>\n",
       "      <td>0.3906</td>\n",
       "      <td>1</td>\n",
       "      <td>2</td>\n",
       "    </tr>\n",
       "    <tr>\n",
       "      <th>4</th>\n",
       "      <td>87.5</td>\n",
       "      <td>5.175509</td>\n",
       "      <td>5.294318</td>\n",
       "      <td>13.671360</td>\n",
       "      <td>43.151993</td>\n",
       "      <td>42.904432</td>\n",
       "      <td>9.621476</td>\n",
       "      <td>0.0</td>\n",
       "      <td>7.613636</td>\n",
       "      <td>12.191591</td>\n",
       "      <td>13.215909</td>\n",
       "      <td>0.0</td>\n",
       "      <td>0.267062</td>\n",
       "      <td>0.267062</td>\n",
       "      <td>0.267062</td>\n",
       "      <td>0.267062</td>\n",
       "      <td>6.363636</td>\n",
       "      <td>408.062517</td>\n",
       "      <td>179.183085</td>\n",
       "      <td>10.164773</td>\n",
       "      <td>88.403409</td>\n",
       "      <td>212.313250</td>\n",
       "      <td>477.437500</td>\n",
       "      <td>1.015966</td>\n",
       "      <td>87.5</td>\n",
       "      <td>0.001509</td>\n",
       "      <td>246.357599</td>\n",
       "      <td>63.5625</td>\n",
       "      <td>7.0625</td>\n",
       "      <td>0.0</td>\n",
       "      <td>22.105057</td>\n",
       "      <td>10.858582</td>\n",
       "      <td>80.050300</td>\n",
       "      <td>0.001954</td>\n",
       "      <td>39.754566</td>\n",
       "      <td>21.757269</td>\n",
       "      <td>44.262521</td>\n",
       "      <td>41.514607</td>\n",
       "      <td>186.699584</td>\n",
       "      <td>2.946146</td>\n",
       "      <td>126.834402</td>\n",
       "      <td>129.642807</td>\n",
       "      <td>1.090909</td>\n",
       "      <td>731.288153</td>\n",
       "      <td>33.811364</td>\n",
       "      <td>1400.105239</td>\n",
       "      <td>16.922727</td>\n",
       "      <td>186.681818</td>\n",
       "      <td>33.025000</td>\n",
       "      <td>183.875000</td>\n",
       "      <td>128.404890</td>\n",
       "      <td>0.000007</td>\n",
       "      <td>394.003550</td>\n",
       "      <td>0.521722</td>\n",
       "      <td>0.641989</td>\n",
       "      <td>0.4050</td>\n",
       "      <td>1</td>\n",
       "      <td>3</td>\n",
       "    </tr>\n",
       "    <tr>\n",
       "      <th>5</th>\n",
       "      <td>87.5</td>\n",
       "      <td>5.201729</td>\n",
       "      <td>5.127273</td>\n",
       "      <td>13.332878</td>\n",
       "      <td>43.262745</td>\n",
       "      <td>43.001705</td>\n",
       "      <td>9.275963</td>\n",
       "      <td>0.0</td>\n",
       "      <td>7.335227</td>\n",
       "      <td>11.556989</td>\n",
       "      <td>12.568182</td>\n",
       "      <td>0.0</td>\n",
       "      <td>0.266392</td>\n",
       "      <td>0.266392</td>\n",
       "      <td>0.266392</td>\n",
       "      <td>0.266392</td>\n",
       "      <td>6.204545</td>\n",
       "      <td>398.231636</td>\n",
       "      <td>107.544619</td>\n",
       "      <td>9.715909</td>\n",
       "      <td>80.952273</td>\n",
       "      <td>208.906159</td>\n",
       "      <td>467.227273</td>\n",
       "      <td>1.011364</td>\n",
       "      <td>87.5</td>\n",
       "      <td>0.001499</td>\n",
       "      <td>246.561347</td>\n",
       "      <td>63.5625</td>\n",
       "      <td>7.0625</td>\n",
       "      <td>0.0</td>\n",
       "      <td>22.104545</td>\n",
       "      <td>11.069689</td>\n",
       "      <td>80.733545</td>\n",
       "      <td>0.001977</td>\n",
       "      <td>39.854118</td>\n",
       "      <td>22.053265</td>\n",
       "      <td>44.748803</td>\n",
       "      <td>43.069595</td>\n",
       "      <td>189.190050</td>\n",
       "      <td>2.231319</td>\n",
       "      <td>126.825392</td>\n",
       "      <td>129.619909</td>\n",
       "      <td>1.096591</td>\n",
       "      <td>731.981176</td>\n",
       "      <td>33.668523</td>\n",
       "      <td>1400.797193</td>\n",
       "      <td>16.985341</td>\n",
       "      <td>184.085227</td>\n",
       "      <td>33.340909</td>\n",
       "      <td>184.797159</td>\n",
       "      <td>128.457781</td>\n",
       "      <td>393.215546</td>\n",
       "      <td>0.000007</td>\n",
       "      <td>0.528508</td>\n",
       "      <td>0.641932</td>\n",
       "      <td>0.4050</td>\n",
       "      <td>1</td>\n",
       "      <td>4</td>\n",
       "    </tr>\n",
       "  </tbody>\n",
       "</table>\n",
       "</div>"
      ],
      "text/plain": [
       "           timestamp_1_to_24  sensor_1  sensor_2   sensor_3   sensor_4  \\\n",
       "lot wafer                                                                \n",
       "2   1                   87.5  5.231203  5.176705  13.251176  42.618787   \n",
       "    2                   87.5  5.196315  5.142614  13.666808  43.419169   \n",
       "    3                   87.5  5.161432  5.255114  13.243853  42.981363   \n",
       "    4                   87.5  5.175509  5.294318  13.671360  43.151993   \n",
       "    5                   87.5  5.201729  5.127273  13.332878  43.262745   \n",
       "\n",
       "            sensor_5  sensor_7  sensor_8  sensor_9  sensor_10  sensor_11  \\\n",
       "lot wafer                                                                  \n",
       "2   1      43.066761  8.505448       0.0  7.267045  11.703011  12.346591   \n",
       "    2      43.147443  9.167583       0.0  7.607955  11.960227  12.761364   \n",
       "    3      42.650795  8.666924       0.0  7.295455  11.563523  12.551136   \n",
       "    4      42.904432  9.621476       0.0  7.613636  12.191591  13.215909   \n",
       "    5      43.001705  9.275963       0.0  7.335227  11.556989  12.568182   \n",
       "\n",
       "           sensor_12  sensor_13  sensor_14  sensor_15  sensor_16  sensor_17  \\\n",
       "lot wafer                                                                     \n",
       "2   1            0.0   0.266298   0.266298   0.266298   0.266298   6.164773   \n",
       "    2            0.0   0.266162   0.266162   0.266162   0.266162   6.363636   \n",
       "    3            0.0   0.266903   0.266903   0.266903   0.266903   6.164773   \n",
       "    4            0.0   0.267062   0.267062   0.267062   0.267062   6.363636   \n",
       "    5            0.0   0.266392   0.266392   0.266392   0.266392   6.204545   \n",
       "\n",
       "            sensor_18   sensor_19  sensor_20  sensor_21   sensor_22  \\\n",
       "lot wafer                                                             \n",
       "2   1      398.018165  126.723761   9.778409  79.217614  208.905500   \n",
       "    2      408.363824  201.201568  10.329545  88.847159  208.953966   \n",
       "    3      398.137699  113.195898   9.727273  79.772727  212.313545   \n",
       "    4      408.062517  179.183085  10.164773  88.403409  212.313250   \n",
       "    5      398.231636  107.544619   9.715909  80.952273  208.906159   \n",
       "\n",
       "            sensor_23  sensor_24  timestamp_25_to_56  sensor_25   sensor_26  \\\n",
       "lot wafer                                                                     \n",
       "2   1      467.232955   0.983864                87.5   0.001495  232.694903   \n",
       "    2      467.204545   1.017557                87.5   0.001500  245.951321   \n",
       "    3      477.465909   0.987557                87.5   0.001505  243.975941   \n",
       "    4      477.437500   1.015966                87.5   0.001509  246.357599   \n",
       "    5      467.227273   1.011364                87.5   0.001499  246.561347   \n",
       "\n",
       "           sensor_27  sensor_28  sensor_29  sensor_30  sensor_31  sensor_32  \\\n",
       "lot wafer                                                                     \n",
       "2   1        60.1875     6.6875        0.0  21.821591  11.296246  79.692877   \n",
       "    2        63.5625     7.0625        0.0  22.105284  10.849002  80.814970   \n",
       "    3        63.0000     7.0000        0.0  21.821420  11.063067  80.783452   \n",
       "    4        63.5625     7.0625        0.0  22.105057  10.858582  80.050300   \n",
       "    5        63.5625     7.0625        0.0  22.104545  11.069689  80.733545   \n",
       "\n",
       "           sensor_34  sensor_35  sensor_37  sensor_38  sensor_39   sensor_40  \\\n",
       "lot wafer                                                                      \n",
       "2   1       0.001977  37.624962  21.595660  44.118530  42.609528  189.509110   \n",
       "    2       0.001973  39.854000  22.763340  45.344954  43.932713  196.958829   \n",
       "    3       0.001954  39.408217  22.018238  44.152238  43.927304  196.613328   \n",
       "    4       0.001954  39.754566  21.757269  44.262521  41.514607  186.699584   \n",
       "    5       0.001977  39.854118  22.053265  44.748803  43.069595  189.190050   \n",
       "\n",
       "           sensor_41   sensor_42   sensor_43  sensor_44   sensor_45  \\\n",
       "lot wafer                                                             \n",
       "2   1       1.660068  120.094154  122.751516   1.022727  690.483790   \n",
       "    2       2.555232  126.819666  129.624593   1.096591  729.909761   \n",
       "    3       1.506227  125.711287  128.485525   1.085227  724.134585   \n",
       "    4       2.946146  126.834402  129.642807   1.090909  731.288153   \n",
       "    5       2.231319  126.825392  129.619909   1.096591  731.981176   \n",
       "\n",
       "           sensor_46    sensor_47  sensor_48   sensor_49  sensor_50  \\\n",
       "lot wafer                                                             \n",
       "2   1      33.894318  1323.791176  16.962955  183.738636  33.119886   \n",
       "    2      33.471932  1398.728761  16.871875  184.289773  33.414205   \n",
       "    3      33.594432  1387.033733  16.950114  184.193182  33.901705   \n",
       "    4      33.811364  1400.105239  16.922727  186.681818  33.025000   \n",
       "    5      33.668523  1400.797193  16.985341  184.085227  33.340909   \n",
       "\n",
       "            sensor_51   sensor_52   sensor_53   sensor_54  sensor_55  \\\n",
       "lot wafer                                                              \n",
       "2   1      181.149432  121.631172  344.745734    0.000004   0.509069   \n",
       "    2      184.728977  128.418243    0.000006  396.140498   0.592390   \n",
       "    3      185.005682  127.305186  395.800252    0.000006   0.526011   \n",
       "    4      183.875000  128.404890    0.000007  394.003550   0.521722   \n",
       "    5      184.797159  128.457781  393.215546    0.000007   0.528508   \n",
       "\n",
       "           sensor_56  response  class  new_index  \n",
       "lot wafer                                         \n",
       "2   1       0.607955    1.0278      0          0  \n",
       "    2       0.642045    0.3906      1          1  \n",
       "    3       0.636648    0.3906      1          2  \n",
       "    4       0.641989    0.4050      1          3  \n",
       "    5       0.641932    0.4050      1          4  "
      ]
     },
     "execution_count": 21,
     "metadata": {},
     "output_type": "execute_result"
    }
   ],
   "source": [
    "print(data.shape)\n",
    "data.head()"
   ]
  },
  {
   "cell_type": "code",
   "execution_count": 22,
   "metadata": {},
   "outputs": [
    {
     "name": "stdout",
     "output_type": "stream",
     "text": [
      "response    -0.896568\n",
      "new_index   -0.105047\n",
      "sensor_4    -0.103220\n",
      "sensor_5    -0.103131\n",
      "sensor_8    -0.081162\n",
      "Name: class, dtype: float64\n",
      "class       -0.896568\n",
      "sensor_47   -0.316494\n",
      "sensor_3    -0.300205\n",
      "sensor_46   -0.260492\n",
      "sensor_34   -0.259675\n",
      "Name: response, dtype: float64\n"
     ]
    }
   ],
   "source": [
    "## look into correlation mapping to see if one sensor is dependent on another\n",
    "#plt.figure(figsize=(10,10))\n",
    "#sns.heatmap(data.corr())\n",
    "#print(data.corr()['sensor_55'].tail(10))\n",
    "print(data.corr()['class'].sort_values().head())\n",
    "print(data.corr()['response'].sort_values().head())"
   ]
  },
  {
   "cell_type": "markdown",
   "metadata": {},
   "source": [
    "This is interesting, I expected response and class to both have the sensor with the highest correlation. Maybe the response threshold to classify class as good or bad (1 or 0) needs to be revisited. Per data author, threshold is set at 0.75 response units."
   ]
  },
  {
   "cell_type": "code",
   "execution_count": 23,
   "metadata": {},
   "outputs": [],
   "source": [
    "#X = data.drop('class', axis=1).astype('int64')\n",
    "#y = data['class'].astype('int64')\n",
    "\n",
    "X = data.drop('response', axis=1).astype('float')\n",
    "y = data['response'].astype('float')"
   ]
  },
  {
   "cell_type": "markdown",
   "metadata": {},
   "source": [
    "Logistic regression complains if the target value is continuous. This makes sense as logistic regression is a classification method. So for logistic regression use 'class' column as target."
   ]
  },
  {
   "cell_type": "code",
   "execution_count": 24,
   "metadata": {},
   "outputs": [
    {
     "name": "stdout",
     "output_type": "stream",
     "text": [
      "(1319, 57)\n",
      "(1319,)\n"
     ]
    }
   ],
   "source": [
    "data['response'].head();\n",
    "print(X.shape)\n",
    "print(y.shape)"
   ]
  },
  {
   "cell_type": "code",
   "execution_count": 25,
   "metadata": {},
   "outputs": [],
   "source": [
    "X_train, X_test, y_train, y_test = train_test_split(X, y, test_size=0.3, random_state=314)"
   ]
  },
  {
   "cell_type": "code",
   "execution_count": 26,
   "metadata": {},
   "outputs": [],
   "source": [
    "#scaler = StandardScaler(with_mean=True)\n",
    "scaler = MinMaxScaler()\n",
    "scaler.fit(X_train)\n",
    "scaler.transform(X_train);\n",
    "scaler.transform(X_test);"
   ]
  },
  {
   "cell_type": "code",
   "execution_count": 27,
   "metadata": {},
   "outputs": [
    {
     "name": "stdout",
     "output_type": "stream",
     "text": [
      "(923, 57)\n",
      "(923,)\n",
      "(396, 57)\n",
      "(396,)\n"
     ]
    }
   ],
   "source": [
    "#print(X_train.head())\n",
    "print(X_train.shape)\n",
    "print(y_train.shape)\n",
    "print(X_test.shape)\n",
    "print(y_test.shape)"
   ]
  },
  {
   "cell_type": "code",
   "execution_count": 28,
   "metadata": {},
   "outputs": [],
   "source": [
    "lin_reg = LinearRegression()\n",
    "log_reg = LogisticRegression(max_iter=100)\n",
    "rand_for = RandomForestClassifier()\n",
    "lasso_reg = Lasso(alpha=10)"
   ]
  },
  {
   "cell_type": "code",
   "execution_count": 29,
   "metadata": {},
   "outputs": [],
   "source": [
    "lin_reg.fit(X_train, y_train)\n",
    "y_pred_train = lin_reg.predict(X_train)\n",
    "y_pred_test = lin_reg.predict(X_test)"
   ]
  },
  {
   "cell_type": "code",
   "execution_count": 30,
   "metadata": {},
   "outputs": [],
   "source": [
    "#log_reg.fit(X_train, y_train)\n",
    "#y_pred_train = log_reg.predict(X_train)\n",
    "#y_pred_test = log_reg.predict(X_test)"
   ]
  },
  {
   "cell_type": "code",
   "execution_count": 31,
   "metadata": {},
   "outputs": [],
   "source": [
    "#lasso_reg.fit(X_train, y_train)\n",
    "#y_pred_train = lasso_reg.predict(X_train)\n",
    "#y_pred_test = lasso_reg.predict(X_test)\n",
    "#print(lasso_reg.coef_)"
   ]
  },
  {
   "cell_type": "code",
   "execution_count": 32,
   "metadata": {},
   "outputs": [],
   "source": [
    "#rand_for.fit(X_train, y_train)\n",
    "#y_pred_train = rand_for.predict(X_train)\n",
    "#y_pred_test = rand_for.predict(X_test)"
   ]
  },
  {
   "cell_type": "code",
   "execution_count": 33,
   "metadata": {},
   "outputs": [
    {
     "name": "stdout",
     "output_type": "stream",
     "text": [
      "(923, 57)\n",
      "(923,)\n",
      "(396, 57)\n",
      "(396,)\n",
      "(396,)\n"
     ]
    }
   ],
   "source": [
    "print(X_train.shape)\n",
    "print(y_train.shape)\n",
    "print(X_test.shape)\n",
    "print(y_test.shape)\n",
    "print(y_pred_test.shape)"
   ]
  },
  {
   "cell_type": "code",
   "execution_count": 34,
   "metadata": {},
   "outputs": [
    {
     "data": {
      "text/plain": [
       "lot  wafer\n",
       "47   1        0.4536\n",
       "27   9        1.8396\n",
       "74   2        0.3762\n",
       "47   7        0.4626\n",
       "65   4        0.3996\n",
       "Name: response, dtype: float64"
      ]
     },
     "execution_count": 34,
     "metadata": {},
     "output_type": "execute_result"
    }
   ],
   "source": [
    "y_test.head()"
   ]
  },
  {
   "cell_type": "code",
   "execution_count": 35,
   "metadata": {},
   "outputs": [
    {
     "data": {
      "text/plain": [
       "<matplotlib.collections.PathCollection at 0x7f4d81090460>"
      ]
     },
     "execution_count": 35,
     "metadata": {},
     "output_type": "execute_result"
    },
    {
     "data": {
      "image/png": "[encoded data removed]",
      "text/plain": [
       "<Figure size 432x288 with 1 Axes>"
      ]
     },
     "metadata": {
      "needs_background": "light"
     },
     "output_type": "display_data"
    }
   ],
   "source": [
    "#plt.scatter(y_test, y_pred_test, alpha=0.5)\n",
    "plt.scatter(X_test['new_index'], y_test, c='blue')\n",
    "plt.scatter(X_test['new_index'], y_pred_test, c='red')\n",
    "#plt.figure(figsize=(20,3))\n",
    "#plt.ylim(-0.5, 1.2)\n",
    "#plt.scatter(np.arange(len(y_test)), y_test, c='green', s=15, alpha=0.4);\n",
    "#plt.scatter(np.arange(len(y_test)), y_pred_test, c='red', s=15, alpha=0.2);\n",
    "#plt.scatter(np.arange(len(y_train)), y_pred_train, c='red', s=15, alpha=0.2);"
   ]
  },
  {
   "cell_type": "code",
   "execution_count": 36,
   "metadata": {},
   "outputs": [],
   "source": [
    "#X = X_pca\n",
    "#pca = PCA(n_components=2)\n",
    "#pca.fit(X_train)\n",
    "#pca.transform(X_test)\n",
    "#X_pca = pd.DataFrame(normalize(X_pca), columns=['PCA1', 'PCA2'])"
   ]
  },
  {
   "cell_type": "code",
   "execution_count": 37,
   "metadata": {},
   "outputs": [],
   "source": [
    "#plt.scatter(y_test, y_pred_test, alpha=0.5)\n",
    "#plt.figure(figsize=(20,3))\n",
    "#plt.scatter(X_test['PCA1'], y_test, c='green', s=15, alpha=0.4);\n",
    "#plt.scatter(X_test['PCA1'], y_pred_test, c='red', s=15, alpha=0.2);"
   ]
  },
  {
   "cell_type": "code",
   "execution_count": 38,
   "metadata": {},
   "outputs": [],
   "source": [
    "#print(classification_report(y_test, y_pred_test, labels=[0,1]))\n",
    "#print(classification_report(y_train, y_pred_train, labels=[0,1]))"
   ]
  },
  {
   "cell_type": "code",
   "execution_count": null,
   "metadata": {},
   "outputs": [],
   "source": []
  }
 ],
 "metadata": {
  "kernelspec": {
   "display_name": "Python 3",
   "language": "python",
   "name": "python3"
  },
  "language_info": {
   "codemirror_mode": {
    "name": "ipython",
    "version": 3
   },
   "file_extension": ".py",
   "mimetype": "text/x-python",
   "name": "python",
   "nbconvert_exporter": "python",
   "pygments_lexer": "ipython3",
   "version": "3.8.5"
  }
 },
 "nbformat": 4,
 "nbformat_minor": 4
}
